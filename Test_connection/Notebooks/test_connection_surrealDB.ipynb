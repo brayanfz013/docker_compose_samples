{
 "cells": [
  {
   "cell_type": "code",
   "execution_count": 1,
   "id": "689ee3ad-06f1-47b7-9d4d-f877324ad401",
   "metadata": {
    "tags": []
   },
   "outputs": [],
   "source": [
    "import surrealdb"
   ]
  },
  {
   "cell_type": "code",
   "execution_count": 3,
   "id": "0bb3587f-8a52-44f1-be16-76881057fd94",
   "metadata": {
    "tags": []
   },
   "outputs": [],
   "source": [
    "\"\"\"Example of how to use the SurrealDB client in a notebook\"\"\"\n",
    "\n",
    "from surrealdb import Surreal\n",
    "\n",
    "db = Surreal(\"http://localhost:8000\")\n",
    "await db.connect()\n",
    "await db.signin({\"user\": \"root\", \"pass\": \"root\"})\n",
    "await db.use(\"test\", \"test\")"
   ]
  },
  {
   "cell_type": "code",
   "execution_count": 4,
   "id": "d400aa6c-b245-4102-b7bf-faff09719c7f",
   "metadata": {
    "tags": []
   },
   "outputs": [
    {
     "data": {
      "text/plain": [
       "[{'id': 'person:j4xmnlvlpvumgga0ovad',\n",
       "  'marketing': True,\n",
       "  'pass': 'safe',\n",
       "  'tags': ['python', 'documentation'],\n",
       "  'user': 'me'}]"
      ]
     },
     "execution_count": 4,
     "metadata": {},
     "output_type": "execute_result"
    }
   ],
   "source": [
    "await db.create(\n",
    "    \"person\",\n",
    "    {\n",
    "        \"user\": \"me\",\n",
    "        \"pass\": \"safe\",\n",
    "        \"marketing\": True,\n",
    "        \"tags\": [\"python\", \"documentation\"],\n",
    "    },\n",
    ")"
   ]
  },
  {
   "cell_type": "code",
   "execution_count": 5,
   "id": "e2086fa5-3fbd-474f-93f6-d34aa27aa168",
   "metadata": {
    "tags": []
   },
   "outputs": [
    {
     "data": {
      "text/plain": [
       "[]"
      ]
     },
     "execution_count": 5,
     "metadata": {},
     "output_type": "execute_result"
    }
   ],
   "source": [
    "await db.select(\"person\")"
   ]
  },
  {
   "cell_type": "code",
   "execution_count": 6,
   "id": "329e4c1f-9968-4b5b-8769-edd0b6061caf",
   "metadata": {
    "tags": []
   },
   "outputs": [
    {
     "data": {
      "text/plain": [
       "[]"
      ]
     },
     "execution_count": 6,
     "metadata": {},
     "output_type": "execute_result"
    }
   ],
   "source": [
    "await db.update(\"person\", {\n",
    "    \"user\":\"you\",\n",
    "    \"pass\":\"very_safe\",\n",
    "    \"marketing\": False,\n",
    "    \"tags\": [\"Awesome\"]\n",
    "})"
   ]
  },
  {
   "cell_type": "code",
   "execution_count": 7,
   "id": "ca9f8b11-ef60-4618-bfae-17c349d82d6b",
   "metadata": {
    "tags": []
   },
   "outputs": [
    {
     "data": {
      "text/plain": [
       "[]"
      ]
     },
     "execution_count": 7,
     "metadata": {},
     "output_type": "execute_result"
    }
   ],
   "source": [
    "await db.delete(\"person\")"
   ]
  },
  {
   "cell_type": "code",
   "execution_count": 8,
   "id": "d9d6ace3-ef44-4a3d-af56-ced8e00c46da",
   "metadata": {
    "tags": []
   },
   "outputs": [
    {
     "data": {
      "text/plain": [
       "<coroutine object Surreal.close at 0x7fcd10a6c820>"
      ]
     },
     "execution_count": 8,
     "metadata": {},
     "output_type": "execute_result"
    }
   ],
   "source": [
    "db.close()"
   ]
  },
  {
   "cell_type": "code",
   "execution_count": null,
   "id": "ba01fda6-9117-47f5-bd97-31a9af4f2ea4",
   "metadata": {},
   "outputs": [],
   "source": []
  }
 ],
 "metadata": {
  "kernelspec": {
   "display_name": "Python 3 (ipykernel)",
   "language": "python",
   "name": "python3"
  },
  "language_info": {
   "codemirror_mode": {
    "name": "ipython",
    "version": 3
   },
   "file_extension": ".py",
   "mimetype": "text/x-python",
   "name": "python",
   "nbconvert_exporter": "python",
   "pygments_lexer": "ipython3",
   "version": "3.10.0"
  }
 },
 "nbformat": 4,
 "nbformat_minor": 5
}
